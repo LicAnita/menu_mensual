{
  "nbformat": 4,
  "nbformat_minor": 0,
  "metadata": {
    "colab": {
      "provenance": [],
      "authorship_tag": "ABX9TyOAzA+tQ2b6WckLleca8EC1",
      "include_colab_link": true
    },
    "kernelspec": {
      "name": "python3",
      "display_name": "Python 3"
    },
    "language_info": {
      "name": "python"
    }
  },
  "cells": [
    {
      "cell_type": "markdown",
      "metadata": {
        "id": "view-in-github",
        "colab_type": "text"
      },
      "source": [
        "<a href=\"https://colab.research.google.com/github/LicAnita/menu_mensual/blob/main/Men%C3%BA_mensual_2_1.ipynb\" target=\"_parent\"><img src=\"https://colab.research.google.com/assets/colab-badge.svg\" alt=\"Open In Colab\"/></a>"
      ]
    },
    {
      "cell_type": "code",
      "source": [
        "from random import randrange"
      ],
      "metadata": {
        "id": "o5sChpP7Xw9U"
      },
      "execution_count": null,
      "outputs": []
    },
    {
      "cell_type": "code",
      "execution_count": null,
      "metadata": {
        "id": "jNP2ONQtNfpw"
      },
      "outputs": [],
      "source": [
        "#genero las listas con cada comida por estación\n",
        "snacks=['tostadas con queso untable', 'tostadas con huevo y tomate', 'yogurt con cereales', 'pancito con manteca', 'yogurt con frutos secos', 'yogurt con frutas', 'hotcakes con frutas', 'frutas']\n",
        "comidas_invierno=['guiso de lentejas', 'guiso de arroz','guiso de fideos' ,'tortilla de papa', 'pastas salteadas con vegetales', 'tarta de ricota con acelga', 'tarta de zapallito con queso', 'empanadas de pollo', 'empanadas de carne', 'bife con zanahoria y huevo', 'supremas de pollo con tomate y huevo', 'ñoquis con salsa', 'fideos con salsa', 'ravioles con crema', 'lasagna de pollo, ricota y jamón', 'pizza', 'tarta de pollo', 'pastel de papa', 'milanesa de carne con puré', 'milanesa de pollo con papas y batatas al horno', 'pollo a la provenzal con fideos', 'tarta de espinaca y huevo', 'pizza de jamón y morrones', 'cabutia al horno relleno', 'polenta con tuco y queso']\n",
        "comidas_verano=['tortilla de papa', 'pastas salteadas con vegetales', 'ensalada de lechuga, tomate, queso y pollo', 'bife con zanahoria y huevo', 'tarta de atún y huevo', 'supremas de pollo con tomate y huevo', 'ñoquis con salsa', 'fideos con salsa', 'ravioles con crema', 'ensalada cesar', 'pizza', 'tarta de pollo', 'tarta de jamón y queso', 'milanesa de carne con ensalada', 'milanesa de pollo con ensalada', 'pollo a la provenzal con fideos', 'tarta de espinaca y huevo', 'pizza de jamón y morrones', 'arroz con atún y huevo']\n",
        "infusiones=['café con leche', 'mate', 'mate cocido']"
      ]
    },
    {
      "cell_type": "code",
      "source": [
        "#saco una cantidad aleatoria por día.\n",
        "dias=int(input('Ingrese la cantidad de días para los que quiere realizar el menú: '))\n",
        "estacion=int(input('Ingrese 1 si estamos en verano-primavera o 2 si estamos en invierno-otoño: '))\n",
        "personas=int(input('Ingrese la cantidad de personas para los que quiere realizar el menú: '))\n",
        "\n",
        "if estacion == 1:\n",
        "  comidas_estacion=comidas_verano\n",
        "elif estacion == 2:\n",
        "  comidas_estacion=comidas_invierno\n",
        "else:\n",
        "  print('Metiste cualquier cosa, máquina.')\n",
        "\n",
        "desayunos=[snacks[randrange(len(snacks))] for i in range(dias)]\n",
        "almuerzos=[comidas_estacion[randrange(len(comidas_estacion))] for i in range(dias)]\n",
        "meriendas=[snacks[randrange(len(snacks))] for i in range(dias)]\n",
        "cenas=[comidas_estacion[randrange(len(comidas_estacion))] for i in range(dias)]\n",
        "planificacion=tuple(zip(desayunos, almuerzos, meriendas, cenas))"
      ],
      "metadata": {
        "colab": {
          "base_uri": "https://localhost:8080/"
        },
        "id": "Z44nZJ_MWsk5",
        "outputId": "d8e75f2d-a4d1-4b18-9d25-22039f48a940"
      },
      "execution_count": null,
      "outputs": [
        {
          "name": "stdout",
          "output_type": "stream",
          "text": [
            "Ingrese la cantidad de días para los que quiere realizar el menú: 7\n",
            "Ingrese 1 si estamos en verano-primavera o 2 si estamos en invierno-otoño: 1\n",
            "Ingrese la cantidad de personas para los que quiere realizar el menú: 2\n"
          ]
        }
      ]
    },
    {
      "cell_type": "code",
      "source": [
        "for e, dia in enumerate(planificacion):\n",
        "  print(f'Día {e+1}: \\n Desayuno: {dia[0]} \\n Almuerzo: {dia[1]} \\n Merienda: {dia[2]} \\n Cena: {dia[3]}')"
      ],
      "metadata": {
        "colab": {
          "base_uri": "https://localhost:8080/"
        },
        "id": "h2JIodRzA3Qp",
        "outputId": "db724eff-6d6d-499d-e46a-a2efab25cb19"
      },
      "execution_count": null,
      "outputs": [
        {
          "output_type": "stream",
          "name": "stdout",
          "text": [
            "Día 1: \n",
            " Desayuno: tostadas con huevo y tomate \n",
            " Almuerzo: bife con zanahoria y huevo \n",
            " Merienda: hotcakes con frutas \n",
            " Cena: ensalada cesar\n",
            "Día 2: \n",
            " Desayuno: yogurt con frutos secos \n",
            " Almuerzo: fideos con salsa \n",
            " Merienda: yogurt con frutos secos \n",
            " Cena: pastas salteadas con vegetales\n",
            "Día 3: \n",
            " Desayuno: frutas \n",
            " Almuerzo: pizza \n",
            " Merienda: hotcakes con frutas \n",
            " Cena: ravioles con crema\n",
            "Día 4: \n",
            " Desayuno: frutas \n",
            " Almuerzo: tortilla de papa \n",
            " Merienda: yogurt con frutas \n",
            " Cena: tarta de atún y huevo\n",
            "Día 5: \n",
            " Desayuno: tostadas con queso untable \n",
            " Almuerzo: bife con zanahoria y huevo \n",
            " Merienda: tostadas con huevo y tomate \n",
            " Cena: tarta de pollo\n",
            "Día 6: \n",
            " Desayuno: yogurt con cereales \n",
            " Almuerzo: fideos con salsa \n",
            " Merienda: tostadas con queso untable \n",
            " Cena: arroz con atún y huevo\n",
            "Día 7: \n",
            " Desayuno: hotcakes con frutas \n",
            " Almuerzo: supremas de pollo con tomate y huevo \n",
            " Merienda: tostadas con huevo y tomate \n",
            " Cena: tarta de espinaca y huevo\n"
          ]
        }
      ]
    },
    {
      "cell_type": "code",
      "source": [
        "menus=[{'Nombre': 'tostadas con queso untable',\n",
        "  'Ingredientes': ('pan lactal', 'pan lactal', 'queso untable')},\n",
        " {'Nombre': 'tostadas con huevo y tomate',\n",
        "  'Ingredientes': ('pan lactal', 'pan lactal', 'huevo', 'tomate')},\n",
        " {'Nombre': 'yogurt con cereales', 'Ingredientes': ('yogurt', 'cereales')},\n",
        " {'Nombre': 'pancito con manteca',\n",
        "  'Ingredientes': ('pan lactal', 'manteca', 'pan lactal', 'manteca')},\n",
        " {'Nombre': 'yogurt con frutos secos',\n",
        "  'Ingredientes': ('yogurt', 'frutos secos')},\n",
        " {'Nombre': 'yogurt con frutas',\n",
        "  'Ingredientes': ('banana', 'naranja', 'manzana', 'yogurt')},\n",
        " {'Nombre': 'hotcakes con frutas',\n",
        "  'Ingredientes': ('huevo', 'azúcar', 'harina', 'esencia de vainilla', 'avena', 'leche', 'banana', 'banana')},\n",
        " {'Nombre': 'frutas', 'Ingredientes': ('banana', 'manzana', 'naranja')},\n",
        " {'Nombre': 'café con leche', 'Ingredientes': ('café', 'leche', 'azúcar')},\n",
        " {'Nombre': 'mate', 'Ingredientes': ('yerba', 'azúcar')},\n",
        " {'Nombre': 'mate cocido', 'Ingredientes': ('mate cocido', 'leche', 'azúcar')},\n",
        " {'Nombre': 'guiso de lentejas',\n",
        "  'Ingredientes': ('papa', 'papa', 'zanahoria', 'aceite', 'ajo', 'carne', 'cebolla', 'salsa de tomate', 'laurel', 'morrón', 'lentejas')},\n",
        " {'Nombre': 'guiso de arroz',\n",
        "  'Ingredientes': ('papa', 'papa', 'zanahoria', 'aceite', 'ajo', 'carne', 'cebolla', 'salsa de tomate', 'laurel', 'morrón', 'arroz')},\n",
        " {'Nombre': 'guiso de fideos',\n",
        "  'Ingredientes': ('papa', 'papa', 'zanahoria', 'aceite', 'ajo', 'carne', 'cebolla', 'salsa de tomate', 'laurel', 'morrón', 'fideos')},\n",
        " {'Nombre': 'tortilla de papa',\n",
        "  'Ingredientes': ('papa', 'papa', 'huevo', 'huevo', 'huevo', 'aceite')},\n",
        " {'Nombre': 'pastas salteadas con vegetales',\n",
        "  'Ingredientes': ('fideos', 'morrón', 'zanahoria', 'berenjena', 'cebolla', 'caldo de verduras', 'queso rallado')},\n",
        " {'Nombre': 'tarta de ricota con acelga',\n",
        "  'Ingredientes': ('ricota', 'acelga', 'masa de tarta', 'aceite', 'cebolla', 'cebolla', 'ajo', 'huevo', 'huevo', 'queso rallado')},\n",
        " {'Nombre': 'tarta de zapallito con queso',\n",
        "  'Ingredientes': ('aceite', 'zapallito', 'zapallito', 'zapallito', 'cebolla', 'queso cremoso', 'aceite')},\n",
        " {'Nombre': 'empanadas de pollo',\n",
        "  'Ingredientes': ('pollo', 'aceite', 'aceite', 'cebolla', 'cebolla', 'morrón', 'huevo', 'huevo', 'aceitunas')},\n",
        " {'Nombre': 'empanadas de carne',\n",
        "  'Ingredientes': ('carne', 'aceite', 'aceite', 'cebolla', 'cebolla', 'morrón', 'huevo', 'huevo', 'aceitunas')},\n",
        " {'Nombre': 'bife con zanahoria y huevo',\n",
        "  'Ingredientes': ('bife', 'zanahoria', 'huevo', 'huevo', 'aceite', 'vinagre')},\n",
        " {'Nombre': 'supremas de pollo con tomate y huevo',\n",
        "  'Ingredientes': ('pollo', 'tomate', 'huevo', 'huevo', 'aceite', 'vinagre')},\n",
        " {'Nombre': 'ñoquis con salsa',\n",
        "  'Ingredientes': ('ñoquis', 'salsa de tomate', 'cebolla')},\n",
        " {'Nombre': 'fideos con salsa',\n",
        "  'Ingredientes': ('fideos', 'salsa de tomate', 'cebolla')},\n",
        " {'Nombre': 'ravioles con crema',\n",
        "  'Ingredientes': ('ravioles', 'crema', 'cebollita de verdeo')},\n",
        " {'Nombre': 'lasagna de pollo, ricota y jamón',\n",
        "  'Ingredientes': ('laminas de lasagna', 'pollo', 'cebolla', 'ajo', 'ricota', 'jamón', 'queso cremoso')},\n",
        " {'Nombre': 'pizza',\n",
        "  'Ingredientes': ('harina', 'aceite', 'levadura', 'muzzarella', 'salsa de tomate')},\n",
        " {'Nombre': 'tarta de pollo',\n",
        "  'Ingredientes': ('masa de tarta', 'pollo', 'cebolla', 'morrón', 'aceite', 'caldito de gallina', 'huevo', 'huevo', 'crema', 'ajo')},\n",
        " {'Nombre': 'pastel de papa',\n",
        "  'Ingredientes': ('papa', 'papa', 'papa', 'carne picada', 'cebolla', 'morrón', 'ajo', 'aceite', 'queso cremoso')},\n",
        " {'Nombre': 'milanesa de carne con puré',\n",
        "  'Ingredientes': ('milanesas de carne', 'pan rallado', 'huevo', 'papa', 'huevo', 'leche', 'manteca')},\n",
        " {'Nombre': 'milanesa de pollo con papas y batatas al horno',\n",
        "  'Ingredientes': ('milanesas de pollo', 'pan rallado', 'huevo', 'papa', 'papa', 'batata', 'batata')},\n",
        " {'Nombre': 'pollo a la provenzal con fideos',\n",
        "  'Ingredientes': ('pollo', 'provenzal', 'fideos', 'manteca')},\n",
        " {'Nombre': 'tarta de espinaca y huevo',\n",
        "  'Ingredientes': ('masa de tarta', 'espinaca', 'cebolla', 'crema', 'queso untable', 'queso cremoso')},\n",
        " {'Nombre': 'pizza de jamón y morrones',\n",
        "  'Ingredientes': ('harina', 'aceite', 'levadura', 'muzzarella', 'salsa de tomate', 'jamón', 'morrón')},\n",
        " {'Nombre': 'cabutia al horno relleno',\n",
        "  'Ingredientes': ('cabutia', 'queso cremoso', 'choclo', 'papa', 'batata', 'zanahoria')},\n",
        " {'Nombre': 'polenta con tuco y queso',\n",
        "  'Ingredientes': ('polenta', 'caldo de gallina', 'queso', 'salsa de tomate')},\n",
        " {'Nombre': 'ensalada de lechuga, tomate, queso y pollo',\n",
        "  'Ingredientes': ('lechuga', 'tomate', 'tomate', 'queso cremoso', 'queso cremoso', 'pollo')},\n",
        " {'Nombre': 'tarta de atún y huevo',\n",
        "  'Ingredientes': ('masa de tarta', 'atún', 'cebolla', 'morrón', 'aceite', 'huevo', 'huevo', 'queso')},\n",
        " {'Nombre': 'ensalada cesar',\n",
        "  'Ingredientes': ('lechuga', 'pan lactal', 'pollo', 'queso rallado', 'huevo', 'aceite', 'vinagre')},\n",
        " {'Nombre': 'tarta de jamón y queso',\n",
        "  'Ingredientes': ('masa de tarta', 'jamón', 'queso cremoso', 'queso cremoso', 'huevo', 'huevo', 'huevo', 'crema')},\n",
        " {'Nombre': 'milanesa de carne con ensalada',\n",
        "  'Ingredientes': ('milanesas de carne', 'pan rallado', 'huevo', 'lechuga', 'tomate', 'aceite', 'vinagre')},\n",
        " {'Nombre': 'milanesa de pollo con ensalada',\n",
        "  'Ingredientes': ('milanesas de pollo', 'pan rallado', 'huevo', 'lechuga', 'tomate', 'aceite', 'vinagre')},\n",
        " {'Nombre': 'arroz con atún y huevo',\n",
        "  'Ingredientes': ('arroz', 'atún', 'huevo', 'huevo', 'huevo')},\n",
        " {'Nombre': 'café con leche', 'Ingredientes': ('café', 'leche', 'azúcar')},\n",
        " {'Nombre': 'mate', 'Ingredientes': ('yerba', 'azúcar')},\n",
        " {'Nombre': 'mate cocido', 'Ingredientes': ('mate cocido', 'leche', 'azúcar')}]"
      ],
      "metadata": {
        "id": "wq6u2uU8cWwz"
      },
      "execution_count": null,
      "outputs": []
    },
    {
      "cell_type": "code",
      "source": [
        "#busco los ingredientes en los menus\n",
        "ingredientes=[]\n",
        "for desayuno in desayunos:\n",
        "  for menu in menus:\n",
        "    if desayuno in menu['Nombre']:\n",
        "      for i in menu['Ingredientes']:\n",
        "        ingredientes.append(i)\n",
        "for almuerzo in almuerzos:\n",
        "  for menu in menus:\n",
        "    if almuerzo in menu['Nombre']:\n",
        "      for i in menu['Ingredientes']:\n",
        "        ingredientes.append(i)\n",
        "for merienda in meriendas:\n",
        "  for menu in menus:\n",
        "    if merienda in menu['Nombre']:\n",
        "      for i in menu['Ingredientes']:\n",
        "        ingredientes.append(i)\n",
        "for cena in cenas:\n",
        "  for menu in menus:\n",
        "    if cena in menu['Nombre']:\n",
        "      for i in menu['Ingredientes']:\n",
        "        ingredientes.append(i)"
      ],
      "metadata": {
        "id": "71vbQe4_XGjy"
      },
      "execution_count": null,
      "outputs": []
    },
    {
      "cell_type": "code",
      "source": [
        "#conteo para el supermercado\n",
        "supermercado=[(ingrediente, ingredientes.count(ingrediente)*personas) for ingrediente in ingredientes]\n",
        "supermercado_limpia=set(supermercado)\n",
        "supermercado_limpia"
      ],
      "metadata": {
        "colab": {
          "base_uri": "https://localhost:8080/"
        },
        "id": "fw1sSSQ3iApk",
        "outputId": "c1e1c23c-2268-42f9-f3d1-ac70326d752b"
      },
      "execution_count": null,
      "outputs": [
        {
          "output_type": "execute_result",
          "data": {
            "text/plain": [
              "{('aceite', 18),\n",
              " ('ajo', 2),\n",
              " ('arroz', 2),\n",
              " ('atún', 4),\n",
              " ('avena', 10),\n",
              " ('azúcar', 10),\n",
              " ('banana', 30),\n",
              " ('berenjena', 2),\n",
              " ('bife', 4),\n",
              " ('caldito de gallina', 2),\n",
              " ('caldo de verduras', 2),\n",
              " ('cebolla', 12),\n",
              " ('cebollita de verdeo', 2),\n",
              " ('cereales', 2),\n",
              " ('crema', 6),\n",
              " ('esencia de vainilla', 10),\n",
              " ('espinaca', 2),\n",
              " ('fideos', 6),\n",
              " ('frutos secos', 4),\n",
              " ('harina', 14),\n",
              " ('huevo', 50),\n",
              " ('jamón', 2),\n",
              " ('leche', 10),\n",
              " ('lechuga', 2),\n",
              " ('levadura', 4),\n",
              " ('manzana', 10),\n",
              " ('masa de tarta', 6),\n",
              " ('morrón', 8),\n",
              " ('muzzarella', 4),\n",
              " ('naranja', 10),\n",
              " ('pan lactal', 22),\n",
              " ('papa', 4),\n",
              " ('pollo', 6),\n",
              " ('queso', 2),\n",
              " ('queso cremoso', 2),\n",
              " ('queso rallado', 4),\n",
              " ('queso untable', 6),\n",
              " ('ravioles', 2),\n",
              " ('salsa de tomate', 8),\n",
              " ('tomate', 8),\n",
              " ('vinagre', 8),\n",
              " ('yogurt', 12),\n",
              " ('zanahoria', 6)}"
            ]
          },
          "metadata": {},
          "execution_count": 7
        }
      ]
    }
  ]
}